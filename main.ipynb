{
 "cells": [
  {
   "cell_type": "markdown",
   "metadata": {},
   "source": [
    "# Compare parameters"
   ]
  },
  {
   "cell_type": "code",
   "execution_count": null,
   "metadata": {},
   "outputs": [],
   "source": [
    "%load_ext autoreload\n",
    "%autoreload 2"
   ]
  },
  {
   "cell_type": "code",
   "execution_count": null,
   "metadata": {},
   "outputs": [],
   "source": [
    "from loader.ImageLoader import ImageLoader\n",
    "from visualizer.image_visualization import print_grayscale, print_rgb\n",
    "from denoiser.Denoiser import ImageDenoiser\n",
    "import numpy as np\n",
    "import matplotlib.pyplot as plt\n",
    "from tqdm.notebook import tqdm"
   ]
  },
  {
   "cell_type": "code",
   "execution_count": null,
   "metadata": {},
   "outputs": [],
   "source": [
    "def mean_square_error(original_image, reconstructed_image):\n",
    "    return np.sqrt((original_image - reconstructed_image)**2).mean(axis=None)"
   ]
  },
  {
   "cell_type": "code",
   "execution_count": null,
   "metadata": {},
   "outputs": [],
   "source": [
    "def find_best_param(original_image, graph_image, noisy_image, Weight_test_list, Data_fitting_type_list = [\"L1\", \"L2\"]):\n",
    "    best_error = mean_square_error(loader.grayscale(), loader.noisy_image())\n",
    "    Error_result_list = {}\n",
    "    Best_energy_history = []\n",
    "    Best_steps = []\n",
    "    best_param = ()\n",
    "    best_reconstructed_image = np.copy(loader.noisy_image())\n",
    "    for data_fitting_type in Data_fitting_type_list:\n",
    "        Error_result_list[data_fitting_type] = []\n",
    "        for regularization_weight in tqdm(Weight_test_list):\n",
    "            denoiser = ImageDenoiser(graph_image, noisy_image, \n",
    "                                    data_fitting_type=data_fitting_type, regularization_weight=regularization_weight)\n",
    "            Energy_history, Steps = denoiser.alpha_beta_swap(max_iter=1500, verbose=False)\n",
    "            error = mean_square_error(original_image, denoiser.reconstructed_image)\n",
    "            Error_result_list[data_fitting_type].append((regularization_weight, error))\n",
    "            if error < best_error:\n",
    "                best_error = error\n",
    "                best_param = (data_fitting_type, regularization_weight)\n",
    "                Best_energy_history = Energy_history\n",
    "                Best_steps = Steps     \n",
    "                best_reconstructed_image = np.copy(denoiser.reconstructed_image)       \n",
    "    return Error_result_list, Best_energy_history, Best_steps, best_param, best_reconstructed_image\n"
   ]
  },
  {
   "cell_type": "markdown",
   "metadata": {},
   "source": [
    "# Cameraman"
   ]
  },
  {
   "cell_type": "markdown",
   "metadata": {},
   "source": [
    "## S&P"
   ]
  },
  {
   "cell_type": "code",
   "execution_count": null,
   "metadata": {},
   "outputs": [],
   "source": [
    "loader = ImageLoader(\"cameraman.jpg\", noise=\"S&P\", rescale_factor=None)\n",
    "cameraman = np.copy(loader.grayscale())\n",
    "cameraman_sp = np.copy(loader.noisy_image())\n",
    "graph = loader.graph()\n",
    "\n",
    "Error_result_list, Best_energy_history, Best_steps, best_param, cameraman_sp_rec = find_best_param(loader.grayscale(), \n",
    "                                                                                    graph, \n",
    "                                                                                    loader.noisy_image(),\n",
    "                                                                                    Weight_test_list = np.logspace(-2,2,10))\n",
    "f, (ax1, ax2) = plt.subplots(1, 2, figsize=(16,8))\n",
    "f.suptitle(\"Cameraman: Noise S&P\")\n",
    "ax1.plot(*zip(*Error_result_list[\"L1\"]), label=\"Error with L1 data fitting term\")\n",
    "ax1.plot(*zip(*Error_result_list[\"L2\"]), label=\"Error with L2 data fitting term\")\n",
    "ax1.legend()\n",
    "ax1.set_xlabel(\"Regularization weight\")\n",
    "ax1.set_ylabel(\"MSE\")\n",
    "ax1.set_title(\"Comparaison of the parameters on Alpha-Beta Swap\")\n",
    "\n",
    "ax2.plot(Best_steps, Best_energy_history)\n",
    "ax2.set_xlabel(\"# Step\")\n",
    "ax2.set_ylabel(\"Energy\")\n",
    "ax2.set_title(f\"Energy history for regularization: {best_param[0]} weight: {best_param[1]}\")\n",
    "plt.show()\n",
    "\n",
    "f, (ax1, ax2, ax3, ax4) = plt.subplots(1, 4, figsize=(16,8))\n",
    "ax1.imshow(cameraman, cmap='gray')\n",
    "ax1.set_title(\"Original image\")\n",
    "ax2.imshow(cameraman_sp, cmap='gray')\n",
    "ax2.set_title(\"Noisy image\")\n",
    "ax3.imshow(cameraman_sp_rec, cmap='gray')\n",
    "ax3.set_title(\"Reconstructed image\")\n",
    "ax4.imshow(np.abs(cameraman - cameraman_sp_rec), cmap='gray_r')\n",
    "ax4.set_title(\"Difference: |Original - Reconstructed|\")\n",
    "plt.show()"
   ]
  },
  {
   "cell_type": "markdown",
   "metadata": {},
   "source": [
    "## Gaussian"
   ]
  },
  {
   "cell_type": "code",
   "execution_count": null,
   "metadata": {},
   "outputs": [],
   "source": [
    "loader = ImageLoader(\"cameraman.jpg\", noise=\"gaussian\", rescale_factor=None)\n",
    "cameraman = np.copy(loader.grayscale())\n",
    "cameraman_gaussian = np.copy(loader.noisy_image())\n",
    "graph = loader.graph()\n",
    "\n",
    "Error_result_list, Best_energy_history, Best_steps, best_param, cameraman_gaussian_rec = find_best_param(loader.grayscale(), \n",
    "                                                                                    graph, \n",
    "                                                                                    loader.noisy_image(),\n",
    "                                                                                    Weight_test_list = np.logspace(-2,2,10))\n",
    "f, (ax1, ax2) = plt.subplots(1, 2, figsize=(16,8))\n",
    "f.suptitle(\"Cameraman: Noise Gaussian\")\n",
    "ax1.plot(*zip(*Error_result_list[\"L1\"]), label=\"Error with L1 data fitting term\")\n",
    "ax1.plot(*zip(*Error_result_list[\"L2\"]), label=\"Error with L2 data fitting term\")\n",
    "ax1.legend()\n",
    "ax1.set_xlabel(\"Regularization weight\")\n",
    "ax1.set_ylabel(\"MSE\")\n",
    "ax1.set_title(\"Comparaison of the parameters on Alpha-Beta Swap\")\n",
    "\n",
    "ax2.plot(Best_steps, Best_energy_history)\n",
    "ax2.set_xlabel(\"# Step\")\n",
    "ax2.set_ylabel(\"Energy\")\n",
    "ax2.set_title(f\"Energy history for regularization: {best_param[0]} weight: {best_param[1]}\")\n",
    "plt.show()\n",
    "\n",
    "f, (ax1, ax2, ax3, ax4) = plt.subplots(1, 4, figsize=(16,8))\n",
    "ax1.imshow(cameraman, cmap='gray')\n",
    "ax1.set_title(\"Original image\")\n",
    "ax2.imshow(cameraman_gaussian, cmap='gray')\n",
    "ax2.set_title(\"Noisy image\")\n",
    "ax3.imshow(cameraman_gaussian_rec, cmap='gray')\n",
    "ax3.set_title(\"Reconstructed image\")\n",
    "ax4.imshow(np.abs(cameraman - cameraman_gaussian_rec), cmap='gray_r')\n",
    "ax4.set_title(\"Difference: |Original - Reconstructed|\")\n",
    "plt.show()"
   ]
  },
  {
   "cell_type": "markdown",
   "metadata": {},
   "source": [
    "# Lenna"
   ]
  },
  {
   "cell_type": "markdown",
   "metadata": {},
   "source": [
    "## S&P"
   ]
  },
  {
   "cell_type": "code",
   "execution_count": null,
   "metadata": {},
   "outputs": [],
   "source": [
    "loader = ImageLoader(\"lenna.jpg\", noise=\"S&P\", rescale_factor=None)\n",
    "lenna = np.copy(loader.grayscale())\n",
    "lenna_sp = np.copy(loader.noisy_image())\n",
    "graph = loader.graph()\n",
    "\n",
    "Error_result_list, Best_energy_history, Best_steps, best_param, lenna_sp_rec = find_best_param(loader.grayscale(), \n",
    "                                                                                    graph, \n",
    "                                                                                    loader.noisy_image(),\n",
    "                                                                                    Weight_test_list = np.logspace(-2,2,10))\n",
    "f, (ax1, ax2) = plt.subplots(1, 2, figsize=(16,8))\n",
    "f.suptitle(\"Lenna: Noise S&P\")\n",
    "ax1.plot(*zip(*Error_result_list[\"L1\"]), label=\"Error with L1 data fitting term\")\n",
    "ax1.plot(*zip(*Error_result_list[\"L2\"]), label=\"Error with L2 data fitting term\")\n",
    "ax1.legend()\n",
    "ax1.set_xlabel(\"Regularization weight\")\n",
    "ax1.set_ylabel(\"MSE\")\n",
    "ax1.set_title(\"Comparaison of the parameters on Alpha-Beta Swap\")\n",
    "\n",
    "ax2.plot(Best_steps, Best_energy_history)\n",
    "ax2.set_xlabel(\"# Step\")\n",
    "ax2.set_ylabel(\"Energy\")\n",
    "ax2.set_title(f\"Energy history for regularization: {best_param[0]} weight: {best_param[1]}\")\n",
    "plt.show()\n",
    "\n",
    "f, (ax1, ax2, ax3, ax4) = plt.subplots(1, 4, figsize=(16,8))\n",
    "ax1.imshow(lenna, cmap='gray')\n",
    "ax1.set_title(\"Original image\")\n",
    "ax2.imshow(lenna_sp, cmap='gray')\n",
    "ax2.set_title(\"Noisy image\")\n",
    "ax3.imshow(lenna_sp_rec, cmap='gray')\n",
    "ax3.set_title(\"Reconstructed image\")\n",
    "ax4.imshow(np.abs(lenna - lenna_sp_rec), cmap='gray_r')\n",
    "ax4.set_title(\"Difference: |Original - Reconstructed|\")\n",
    "plt.show()"
   ]
  },
  {
   "cell_type": "markdown",
   "metadata": {},
   "source": [
    "## Gaussian"
   ]
  },
  {
   "cell_type": "code",
   "execution_count": null,
   "metadata": {},
   "outputs": [],
   "source": [
    "loader = ImageLoader(\"lenna.jpg\", noise=\"gaussian\", rescale_factor=None)\n",
    "lenna = np.copy(loader.grayscale())\n",
    "lenna_gaussian = np.copy(loader.noisy_image())\n",
    "graph = loader.graph()\n",
    "\n",
    "Error_result_list, Best_energy_history, Best_steps, best_param, lenna_gaussian_rec = find_best_param(loader.grayscale(), \n",
    "                                                                                    graph, \n",
    "                                                                                    loader.noisy_image(),\n",
    "                                                                                    Weight_test_list = np.logspace(-2,2,10))\n",
    "f, (ax1, ax2) = plt.subplots(1, 2, figsize=(16,8))\n",
    "f.suptitle(\"Lenna: Noise Gaussian\")\n",
    "ax1.plot(*zip(*Error_result_list[\"L1\"]), label=\"Error with L1 data fitting term\")\n",
    "ax1.plot(*zip(*Error_result_list[\"L2\"]), label=\"Error with L2 data fitting term\")\n",
    "ax1.legend()\n",
    "ax1.set_xlabel(\"Regularization weight\")\n",
    "ax1.set_ylabel(\"MSE\")\n",
    "ax1.set_title(\"Comparaison of the parameters on Alpha-Beta Swap\")\n",
    "\n",
    "ax2.plot(Best_steps, Best_energy_history)\n",
    "ax2.set_xlabel(\"# Step\")\n",
    "ax2.set_ylabel(\"Energy\")\n",
    "ax2.set_title(f\"Energy history for regularization: {best_param[0]} weight: {best_param[1]}\")\n",
    "plt.show()\n",
    "\n",
    "f, (ax1, ax2, ax3, ax4) = plt.subplots(1, 4, figsize=(16,8))\n",
    "ax1.imshow(lenna, cmap='gray')\n",
    "ax1.set_title(\"Original image\")\n",
    "ax2.imshow(lenna_gaussian, cmap='gray')\n",
    "ax2.set_title(\"Noisy image\")\n",
    "ax3.imshow(lenna_gaussian_rec, cmap='gray')\n",
    "ax3.set_title(\"Reconstructed image\")\n",
    "ax4.imshow(np.abs(lenna - lenna_gaussian_rec), cmap='gray_r')\n",
    "ax4.set_title(\"Difference: |Original - Reconstructed|\")\n",
    "plt.show()"
   ]
  },
  {
   "cell_type": "code",
   "execution_count": null,
   "metadata": {},
   "outputs": [],
   "source": []
  }
 ],
 "metadata": {
  "interpreter": {
   "hash": "fdcf3b529e3c71415526e2fef7871ebd8965eb263fbeb3eb07fe208d336a960c"
  },
  "kernelspec": {
   "display_name": "Python 3.8.10 ('.venv': venv)",
   "language": "python",
   "name": "python3"
  },
  "language_info": {
   "codemirror_mode": {
    "name": "ipython",
    "version": 3
   },
   "file_extension": ".py",
   "mimetype": "text/x-python",
   "name": "python",
   "nbconvert_exporter": "python",
   "pygments_lexer": "ipython3",
   "version": "3.8.10"
  },
  "orig_nbformat": 4
 },
 "nbformat": 4,
 "nbformat_minor": 2
}
